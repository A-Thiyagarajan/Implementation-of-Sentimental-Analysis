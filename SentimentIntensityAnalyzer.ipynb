{
  "nbformat": 4,
  "nbformat_minor": 0,
  "metadata": {
    "colab": {
      "provenance": [],
      "authorship_tag": "ABX9TyMxbB5FQZzdju+5Ll+U5y+G",
      "include_colab_link": true
    },
    "kernelspec": {
      "name": "python3",
      "display_name": "Python 3"
    },
    "language_info": {
      "name": "python"
    }
  },
  "cells": [
    {
      "cell_type": "markdown",
      "metadata": {
        "id": "view-in-github",
        "colab_type": "text"
      },
      "source": [
        "<a href=\"https://colab.research.google.com/github/A-Thiyagarajan/Implementation-of-Sentimental-Analysis/blob/main/SentimentIntensityAnalyzer.ipynb\" target=\"_parent\"><img src=\"https://colab.research.google.com/assets/colab-badge.svg\" alt=\"Open In Colab\"/></a>"
      ]
    },
    {
      "cell_type": "code",
      "execution_count": 1,
      "metadata": {
        "colab": {
          "base_uri": "https://localhost:8080/"
        },
        "id": "kgYJmIcpEbm0",
        "outputId": "814333ab-29aa-45ee-acf8-9fd7c128bdce"
      },
      "outputs": [
        {
          "output_type": "stream",
          "name": "stderr",
          "text": [
            "[nltk_data] Downloading package vader_lexicon to /root/nltk_data...\n"
          ]
        },
        {
          "output_type": "stream",
          "name": "stdout",
          "text": [
            "Enter a sentence to analyze: \"I like this book ! It's amazing.\"\n",
            "Positive score: 0.358\n",
            "Negative score: 0.0\n",
            "Neutral score: 0.642\n",
            "Compound score: 0.4199\n"
          ]
        }
      ],
      "source": [
        "import nltk\n",
        "from nltk.sentiment import SentimentIntensityAnalyzer\n",
        "\n",
        "nltk.download('vader_lexicon')\n",
        "\n",
        "sia = SentimentIntensityAnalyzer()\n",
        "\n",
        "text = input(\"Enter a sentence to analyze: \")\n",
        "\n",
        "scores = sia.polarity_scores(text)\n",
        "\n",
        "print(\"Positive score:\", scores['pos'])\n",
        "print(\"Negative score:\", scores['neg'])\n",
        "print(\"Neutral score:\", scores['neu'])\n",
        "print(\"Compound score:\", scores['compound'])\n"
      ]
    }
  ]
}